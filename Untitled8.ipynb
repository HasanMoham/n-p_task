{
  "nbformat": 4,
  "nbformat_minor": 0,
  "metadata": {
    "colab": {
      "provenance": [],
      "authorship_tag": "ABX9TyPrl7HvURkyPpnUYJKD7LO2",
      "include_colab_link": true
    },
    "kernelspec": {
      "name": "python3",
      "display_name": "Python 3"
    },
    "language_info": {
      "name": "python"
    }
  },
  "cells": [
    {
      "cell_type": "markdown",
      "metadata": {
        "id": "view-in-github",
        "colab_type": "text"
      },
      "source": [
        "<a href=\"https://colab.research.google.com/github/HasanMoham/n-p_task/blob/main/Untitled8.ipynb\" target=\"_parent\"><img src=\"https://colab.research.google.com/assets/colab-badge.svg\" alt=\"Open In Colab\"/></a>"
      ]
    },
    {
      "cell_type": "code",
      "execution_count": 1,
      "metadata": {
        "colab": {
          "base_uri": "https://localhost:8080/"
        },
        "id": "T5tuQ7bUL_-G",
        "outputId": "a5f809ab-2e37-427b-cd93-9a7f88598f86"
      },
      "outputs": [
        {
          "output_type": "stream",
          "name": "stdout",
          "text": [
            "Downloading from https://www.kaggle.com/api/v1/datasets/download/jp797498e/twitter-entity-sentiment-analysis?dataset_version_number=2...\n"
          ]
        },
        {
          "output_type": "stream",
          "name": "stderr",
          "text": [
            "100%|██████████| 1.99M/1.99M [00:00<00:00, 80.2MB/s]"
          ]
        },
        {
          "output_type": "stream",
          "name": "stdout",
          "text": [
            "Extracting files...\n"
          ]
        },
        {
          "output_type": "stream",
          "name": "stderr",
          "text": [
            "\n"
          ]
        }
      ],
      "source": [
        "import kagglehub\n",
        "import pandas as pd\n",
        "import numpy as np\n",
        "from sklearn.model_selection import train_test_split\n",
        "from tensorflow.keras.preprocessing.text import Tokenizer\n",
        "from tensorflow.keras.preprocessing.sequence import pad_sequences\n",
        "from sklearn.model_selection import train_test_split\n",
        "from tensorflow.keras.models import Sequential\n",
        "from tensorflow.keras.layers import Embedding, SimpleRNN, Dense\n",
        "# Download the dataset\n",
        "dataset_path = kagglehub.dataset_download(\"jp797498e/twitter-entity-sentiment-analysis\")"
      ]
    },
    {
      "cell_type": "code",
      "source": [
        "# Load the dataset\n",
        "df = pd.read_csv(f\"{dataset_path}/twitter_training.csv\")"
      ],
      "metadata": {
        "id": "oQG3C4SUMEX0"
      },
      "execution_count": 2,
      "outputs": []
    },
    {
      "cell_type": "code",
      "source": [
        "df = df.rename(columns={\n",
        "    '2401': 'tweet id',\n",
        "    'Borderlands': 'entity',\n",
        "    'Positive': 'sentiment',\n",
        "    'im getting on borderlands and i will murder you all ,': 'tweet content',\n",
        "})"
      ],
      "metadata": {
        "id": "xXzdm0YnMHXU"
      },
      "execution_count": 3,
      "outputs": []
    },
    {
      "cell_type": "code",
      "source": [
        "df.columns\n",
        "\n",
        "df['sentiment'].unique()\n",
        "# Filter out 'Irrelevant' rows (if needed)\n",
        "df = df[df['sentiment'] != 'Irrelevant']\n",
        "df['sentiment'].unique()\n",
        "df.info()"
      ],
      "metadata": {
        "colab": {
          "base_uri": "https://localhost:8080/"
        },
        "id": "YnVnEp63MO-f",
        "outputId": "1b3e2f34-5393-4ac7-d71f-a29ba911ae09"
      },
      "execution_count": 4,
      "outputs": [
        {
          "output_type": "stream",
          "name": "stdout",
          "text": [
            "<class 'pandas.core.frame.DataFrame'>\n",
            "Index: 61691 entries, 0 to 74680\n",
            "Data columns (total 4 columns):\n",
            " #   Column         Non-Null Count  Dtype \n",
            "---  ------         --------------  ----- \n",
            " 0   tweet id       61691 non-null  int64 \n",
            " 1   entity         61691 non-null  object\n",
            " 2   sentiment      61691 non-null  object\n",
            " 3   tweet content  61120 non-null  object\n",
            "dtypes: int64(1), object(3)\n",
            "memory usage: 2.4+ MB\n"
          ]
        }
      ]
    },
    {
      "cell_type": "code",
      "source": [
        "print(df.isnull().sum())\n"
      ],
      "metadata": {
        "colab": {
          "base_uri": "https://localhost:8080/"
        },
        "id": "4-jX25FUMgkG",
        "outputId": "1ff247bd-054d-442d-d1f4-b89be7348087"
      },
      "execution_count": 5,
      "outputs": [
        {
          "output_type": "stream",
          "name": "stdout",
          "text": [
            "tweet id           0\n",
            "entity             0\n",
            "sentiment          0\n",
            "tweet content    571\n",
            "dtype: int64\n"
          ]
        }
      ]
    },
    {
      "cell_type": "code",
      "source": [
        "df = df.dropna(subset=['tweet content'])\n",
        "\n",
        "# Tokenize the tweet content\n",
        "tokenizer = Tokenizer(num_words=10000)\n",
        "tokenizer.fit_on_texts(df['tweet content'])\n",
        "sequences = tokenizer.texts_to_sequences(df['tweet content'])\n",
        "\n",
        "# Pad sequences to ensure uniform length\n",
        "maxlen = 100\n",
        "X = pad_sequences(sequences, maxlen=maxlen)\n",
        "\n",
        "# Extract labels\n",
        "y = df['sentiment'].map({'Positive': 2, 'Neutral': 1, 'Negative': 0}).values\n",
        "\n",
        "# Split the data into training and testing sets\n",
        "X_train, X_test, y_train, y_test = train_test_split(X, y, test_size=0.2, random_state=42)\n",
        "\n",
        "# Verify data types\n",
        "y_train = y_train.astype('int32')\n",
        "y_test = y_test.astype('int32')\n",
        "\n",
        "# Define the model\n",
        "num_classes = len(df['sentiment'].unique())\n",
        "model = Sequential([\n",
        "    Embedding(input_dim=10000, output_dim=128),\n",
        "    SimpleRNN(64, return_sequences=False),\n",
        "    Dense(num_classes, activation='softmax')  # Match the number of classes\n",
        "])\n",
        "\n",
        "# Compile the model\n",
        "model.compile(optimizer='adam', loss='sparse_categorical_crossentropy', metrics=['accuracy'])\n",
        "\n",
        "# Train the model\n",
        "history = model.fit(X_train, y_train, epochs=5, batch_size=64, validation_split=0.2)\n",
        "\n",
        "# Evaluate the model\n",
        "loss, accuracy = model.evaluate(X_test, y_test)\n",
        "print(f\"Test Accuracy: {accuracy:.4f}\")"
      ],
      "metadata": {
        "colab": {
          "base_uri": "https://localhost:8080/"
        },
        "id": "nr4HW7nMMlnG",
        "outputId": "dc984e59-deb2-4750-c7c4-6bc8f9c278fb"
      },
      "execution_count": 6,
      "outputs": [
        {
          "output_type": "stream",
          "name": "stdout",
          "text": [
            "Epoch 1/5\n",
            "\u001b[1m612/612\u001b[0m \u001b[32m━━━━━━━━━━━━━━━━━━━━\u001b[0m\u001b[37m\u001b[0m \u001b[1m43s\u001b[0m 65ms/step - accuracy: 0.5673 - loss: 0.8936 - val_accuracy: 0.7957 - val_loss: 0.5186\n",
            "Epoch 2/5\n",
            "\u001b[1m612/612\u001b[0m \u001b[32m━━━━━━━━━━━━━━━━━━━━\u001b[0m\u001b[37m\u001b[0m \u001b[1m39s\u001b[0m 62ms/step - accuracy: 0.8914 - loss: 0.2951 - val_accuracy: 0.8300 - val_loss: 0.4476\n",
            "Epoch 3/5\n",
            "\u001b[1m612/612\u001b[0m \u001b[32m━━━━━━━━━━━━━━━━━━━━\u001b[0m\u001b[37m\u001b[0m \u001b[1m42s\u001b[0m 63ms/step - accuracy: 0.9456 - loss: 0.1479 - val_accuracy: 0.8281 - val_loss: 0.4847\n",
            "Epoch 4/5\n",
            "\u001b[1m612/612\u001b[0m \u001b[32m━━━━━━━━━━━━━━━━━━━━\u001b[0m\u001b[37m\u001b[0m \u001b[1m40s\u001b[0m 62ms/step - accuracy: 0.9600 - loss: 0.1047 - val_accuracy: 0.8333 - val_loss: 0.4999\n",
            "Epoch 5/5\n",
            "\u001b[1m612/612\u001b[0m \u001b[32m━━━━━━━━━━━━━━━━━━━━\u001b[0m\u001b[37m\u001b[0m \u001b[1m42s\u001b[0m 63ms/step - accuracy: 0.9614 - loss: 0.1018 - val_accuracy: 0.8304 - val_loss: 0.5501\n",
            "\u001b[1m382/382\u001b[0m \u001b[32m━━━━━━━━━━━━━━━━━━━━\u001b[0m\u001b[37m\u001b[0m \u001b[1m4s\u001b[0m 11ms/step - accuracy: 0.8366 - loss: 0.5355\n",
            "Test Accuracy: 0.8352\n"
          ]
        }
      ]
    }
  ]
}